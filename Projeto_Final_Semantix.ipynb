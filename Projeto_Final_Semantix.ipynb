{
 "cells": [
  {
   "cell_type": "code",
   "execution_count": 1,
   "metadata": {},
   "outputs": [],
   "source": [
    "from pyspark.sql.functions import *\n",
    "from pyspark.sql.types import *\n",
    "from pyspark.sql import *"
   ]
  },
  {
   "cell_type": "code",
   "execution_count": 2,
   "metadata": {},
   "outputs": [],
   "source": [
    "spark.sparkContext.setLogLevel(\"INFO\")"
   ]
  },
  {
   "cell_type": "code",
   "execution_count": 3,
   "metadata": {},
   "outputs": [],
   "source": [
    "spark = SparkSession.builder \\\n",
    ".appName('projeto') \\\n",
    ".master('local[*]') \\\n",
    ".config('spark.driver.memory','64G') \\\n",
    ".config('spark.sql.execution.arrow.pyspark.enabled', True) \\\n",
    ".config('spark.ui.showConsoleProgress', True) \\\n",
    ".enableHiveSupport()\\\n",
    ".getOrCreate()"
   ]
  },
  {
   "cell_type": "code",
   "execution_count": 4,
   "metadata": {},
   "outputs": [
    {
     "data": {
      "text/html": [
       "\n",
       "            <div>\n",
       "                <p><b>SparkSession - hive</b></p>\n",
       "                \n",
       "        <div>\n",
       "            <p><b>SparkContext</b></p>\n",
       "\n",
       "            <p><a href=\"http://jupyter-spark:4040\">Spark UI</a></p>\n",
       "\n",
       "            <dl>\n",
       "              <dt>Version</dt>\n",
       "                <dd><code>v2.4.1</code></dd>\n",
       "              <dt>Master</dt>\n",
       "                <dd><code>local[*]</code></dd>\n",
       "              <dt>AppName</dt>\n",
       "                <dd><code>pyspark-shell</code></dd>\n",
       "            </dl>\n",
       "        </div>\n",
       "        \n",
       "            </div>\n",
       "        "
      ],
      "text/plain": [
       "<pyspark.sql.session.SparkSession at 0x7fc70007c438>"
      ]
     },
     "execution_count": 4,
     "metadata": {},
     "output_type": "execute_result"
    }
   ],
   "source": [
    "spark"
   ]
  },
  {
   "cell_type": "markdown",
   "metadata": {},
   "source": [
    "## 1 - Enviar os dados para o hdfs\n",
    "### No Terminal:\n",
    "#### cp /home/marcelo/Downloads/projeto/* /home/marcelo/Treinamento/docker-bigdata/spark/input/arquivos\n",
    "\n",
    "#### docker exec -it namenode bash\n",
    "#### hdfs dfs -mkdir /user/marcelo/projeto_semantix\n",
    "#### hdfs dfs -moveFromLocal /input/arquivos/*.csv user/marcelo/projeto_semantix"
   ]
  },
  {
   "cell_type": "code",
   "execution_count": 5,
   "metadata": {},
   "outputs": [
    {
     "name": "stdout",
     "output_type": "stream",
     "text": [
      "Found 7 items\r\n",
      "-rw-r--r--   3 root supergroup   62493275 2022-08-08 12:41 /user/marcelo/projeto_semantix/HIST_PAINEL_COVIDBR_2020_Parte1_07ago2022.csv\r\n",
      "-rw-r--r--   3 root supergroup   76520606 2022-08-08 12:41 /user/marcelo/projeto_semantix/HIST_PAINEL_COVIDBR_2020_Parte2_07ago2022.csv\r\n",
      "-rw-r--r--   3 root supergroup   91120853 2022-08-08 12:41 /user/marcelo/projeto_semantix/HIST_PAINEL_COVIDBR_2021_Parte1_07ago2022.csv\r\n",
      "-rw-r--r--   3 root supergroup   93414239 2022-08-08 12:41 /user/marcelo/projeto_semantix/HIST_PAINEL_COVIDBR_2021_Parte2_07ago2022.csv\r\n",
      "-rw-r--r--   3 root supergroup   91807916 2022-08-08 12:41 /user/marcelo/projeto_semantix/HIST_PAINEL_COVIDBR_2022_Parte1_07ago2022.csv\r\n",
      "-rw-r--r--   3 root supergroup   19367488 2022-08-08 12:41 /user/marcelo/projeto_semantix/HIST_PAINEL_COVIDBR_2022_Parte2_07ago2022.csv\r\n",
      "drwxr-xr-x   - root supergroup          0 2022-08-08 22:44 /user/marcelo/projeto_semantix/view2\r\n"
     ]
    }
   ],
   "source": [
    "# Listando arquivos no HDFS\n",
    "!hdfs dfs -ls /user/marcelo/projeto_semantix"
   ]
  },
  {
   "cell_type": "markdown",
   "metadata": {},
   "source": [
    "-------------"
   ]
  },
  {
   "cell_type": "markdown",
   "metadata": {},
   "source": [
    "## 2 - Otimizar todos os dados do hdfs para uma tabela Hive particionada por município."
   ]
  },
  {
   "cell_type": "code",
   "execution_count": 6,
   "metadata": {},
   "outputs": [],
   "source": [
    "## Criando Schema para ler os dados no formato correto\n",
    "schema = StructType().add(\"regiao\", \"string\").add(\"estado\", \"string\").add(\"municipio\", \"string\")\\\n",
    ".add(\"coduf\", \"integer\").add(\"codmun\", \"integer\").add(\"codRegiaoSaude\", \"integer\").add(\"nomeRegiaoSaude\", \"string\")\\\n",
    ".add(\"data\", \"timestamp\").add(\"semanaEpi\", \"integer\").add(\"populacaoTCU2019\", \"integer\")\\\n",
    ".add(\"casosAcumulado\", \"integer\").add(\"casosNovos\", \"integer\").add(\"obitosAcumulado\", \"integer\")\\\n",
    ".add(\"obitosNovos\", \"integer\").add(\"Recuperadosnovos\", \"integer\").add(\"emAcompanhamentoNovos\", \"integer\")\\\n",
    ".add(\"interior/metropolitana\", \"integer\")"
   ]
  },
  {
   "cell_type": "code",
   "execution_count": 7,
   "metadata": {},
   "outputs": [
    {
     "name": "stdout",
     "output_type": "stream",
     "text": [
      "root\n",
      " |-- regiao: string (nullable = true)\n",
      " |-- estado: string (nullable = true)\n",
      " |-- municipio: string (nullable = true)\n",
      " |-- coduf: integer (nullable = true)\n",
      " |-- codmun: integer (nullable = true)\n",
      " |-- codRegiaoSaude: integer (nullable = true)\n",
      " |-- nomeRegiaoSaude: string (nullable = true)\n",
      " |-- data: string (nullable = true)\n",
      " |-- semanaEpi: integer (nullable = true)\n",
      " |-- populacaoTCU2019: integer (nullable = true)\n",
      " |-- casosAcumulado: integer (nullable = true)\n",
      " |-- casosNovos: integer (nullable = true)\n",
      " |-- obitosAcumulado: integer (nullable = true)\n",
      " |-- obitosNovos: integer (nullable = true)\n",
      " |-- Recuperadosnovos: integer (nullable = true)\n",
      " |-- emAcompanhamentoNovos: integer (nullable = true)\n",
      " |-- interior/metropolitana: integer (nullable = true)\n",
      "\n"
     ]
    }
   ],
   "source": [
    "# Lendo os Dados, ajustando e mostrando o Schema\n",
    "df = spark.read.csv(\"/user/marcelo/projeto_semantix/*.csv\", header=\"true\", sep=\";\", schema=schema)\n",
    "df = df.withColumn('data', from_unixtime(unix_timestamp(df.data), \"yyyy-MM-dd\"))\n",
    "df.printSchema()"
   ]
  },
  {
   "cell_type": "code",
   "execution_count": 8,
   "metadata": {},
   "outputs": [
    {
     "name": "stdout",
     "output_type": "stream",
     "text": [
      "+------------+\n",
      "|databaseName|\n",
      "+------------+\n",
      "|    castilho|\n",
      "|       covid|\n",
      "|     default|\n",
      "|       views|\n",
      "+------------+\n",
      "\n"
     ]
    }
   ],
   "source": [
    "# Visualizando Databases existentes\n",
    "spark.sql(\"show Databases\").show()"
   ]
  },
  {
   "cell_type": "code",
   "execution_count": 9,
   "metadata": {},
   "outputs": [],
   "source": [
    "# Criando Nova Database e salvando no formato tabela Hive\n",
    "spark.sql(\"create database covid\")\n",
    "df.write.mode('overwrite').partitionBy('municipio').format('csv')\\\n",
    ".saveAsTable('covid.municipio', path='hdfs://namenode:8020/user/hive/warehouse/covid/')\n"
   ]
  },
  {
   "cell_type": "code",
   "execution_count": 10,
   "metadata": {},
   "outputs": [
    {
     "name": "stdout",
     "output_type": "stream",
     "text": [
      "+-----------------------------+\n",
      "|partition                    |\n",
      "+-----------------------------+\n",
      "|municipio=Abadia de Goiás    |\n",
      "|municipio=Abadia dos Dourados|\n",
      "|municipio=Abadiânia          |\n",
      "|municipio=Abaetetuba         |\n",
      "|municipio=Abaeté             |\n",
      "|municipio=Abaiara            |\n",
      "|municipio=Abaré              |\n",
      "|municipio=Abatiá             |\n",
      "|municipio=Abaíra             |\n",
      "|municipio=Abdon Batista      |\n",
      "+-----------------------------+\n",
      "only showing top 10 rows\n",
      "\n"
     ]
    }
   ],
   "source": [
    "spark.sql('show partitions covid.municipio').show(10,truncate = False)"
   ]
  },
  {
   "cell_type": "code",
   "execution_count": 11,
   "metadata": {},
   "outputs": [
    {
     "name": "stdout",
     "output_type": "stream",
     "text": [
      "Found 5299 items\n",
      "-rw-r--r--   2 root supergroup          0 2022-08-08 13:15 /user/hive/warehouse/covid/_SUCCESS\n",
      "drwxr-xr-x   - root supergroup          0 2022-08-08 13:15 /user/hive/warehouse/covid/municipio=Abadia de Goiás\n",
      "drwxr-xr-x   - root supergroup          0 2022-08-08 13:15 /user/hive/warehouse/covid/municipio=Abadia dos Dourados\n",
      "drwxr-xr-x   - root supergroup          0 2022-08-08 13:15 /user/hive/warehouse/covid/municipio=Abadiânia\n"
     ]
    }
   ],
   "source": [
    "# Conferindo no HDFS se está tudo OK\n",
    "!hdfs dfs -ls /user/hive/warehouse/covid |head -5"
   ]
  },
  {
   "attachments": {
    "image.png": {
     "image/png": "[encoded data removed]"
    }
   },
   "cell_type": "markdown",
   "metadata": {},
   "source": [
    "## 3. Criar as 3 vizualizações pelo Spark com os dados enviados para o HDFS:\n",
    "![image.png](attachment:image.png)"
   ]
  },
  {
   "cell_type": "code",
   "execution_count": 12,
   "metadata": {},
   "outputs": [],
   "source": [
    "# Criando visualizações do dia 06/07/2021\n",
    "data = \"2021-07-06\"\n",
    "dia6 = df.where((df.regiao == 'Brasil') & (df.data == data))"
   ]
  },
  {
   "cell_type": "code",
   "execution_count": 13,
   "metadata": {},
   "outputs": [
    {
     "name": "stdout",
     "output_type": "stream",
     "text": [
      "+-----------------+-----------------+\n",
      "|Casos Recuperados|Em Acompanhamento|\n",
      "+-----------------+-----------------+\n",
      "|         17151673|          1115726|\n",
      "+-----------------+-----------------+\n",
      "\n"
     ]
    }
   ],
   "source": [
    "# Primeira Visualização\n",
    "\n",
    "view1 = dia6.select(col(\"Recuperadosnovos\").alias(\"Casos Recuperados\")\\\n",
    "                    ,col(\"emAcompanhamentoNovos\").alias(\"Em Acompanhamento\"))\n",
    "view1.show()"
   ]
  },
  {
   "cell_type": "code",
   "execution_count": 14,
   "metadata": {},
   "outputs": [
    {
     "name": "stdout",
     "output_type": "stream",
     "text": [
      "+----------------+-----------+----------+\n",
      "|Casos_Acumulados|Casos_Novos|Incidência|\n",
      "+----------------+-----------+----------+\n",
      "|        18855015|      62504|    8972.3|\n",
      "+----------------+-----------+----------+\n",
      "\n"
     ]
    }
   ],
   "source": [
    "# Segunda Visualização\n",
    "\n",
    "view2 = dia6.select(col('casosAcumulado').alias('Casos_Acumulados'),\\\n",
    "                     col('casosNovos').alias('Casos_Novos'),\\\n",
    "                    (round(col('casosAcumulado') / col('populacaoTCU2019')*100000,1)).alias('Incidência'))\n",
    "view2.show()"
   ]
  },
  {
   "cell_type": "code",
   "execution_count": 15,
   "metadata": {
    "scrolled": true
   },
   "outputs": [
    {
     "name": "stdout",
     "output_type": "stream",
     "text": [
      "+-----------------+------------+----------+-----------+\n",
      "|Obitos_Acumulados|Obitos_Novos|Letalidade|Mortalidade|\n",
      "+-----------------+------------+----------+-----------+\n",
      "|           526892|        1780|       2.8|      250.7|\n",
      "+-----------------+------------+----------+-----------+\n",
      "\n"
     ]
    }
   ],
   "source": [
    "# Terceira Visualização\n",
    "\n",
    "view3 = dia6.select(dia6['obitosAcumulado'].alias('Obitos_Acumulados'),\\\n",
    "                      dia6['obitosNovos'].alias('Obitos_Novos'),\\\n",
    "                     (round(dia6['obitosAcumulado']/dia6['casosAcumulado']*100,1)).alias('Letalidade'),\\\n",
    "                     (round(dia6['obitosAcumulado']/dia6['populacaoTCU2019']*100000,1)).alias('Mortalidade'))\n",
    "view3.show()"
   ]
  },
  {
   "cell_type": "code",
   "execution_count": 16,
   "metadata": {},
   "outputs": [],
   "source": [
    "# Criando cópia\n",
    "view3_1 = view3"
   ]
  },
  {
   "cell_type": "markdown",
   "metadata": {},
   "source": [
    "---------------"
   ]
  },
  {
   "cell_type": "markdown",
   "metadata": {},
   "source": [
    "## 4. Salvar a primeira visualização como tabela Hive"
   ]
  },
  {
   "cell_type": "code",
   "execution_count": 17,
   "metadata": {},
   "outputs": [],
   "source": [
    "# Salvando\n",
    "view1.write.mode(\"overwrite\").saveAsTable(\"castilho.view1\", format=\"hive\")"
   ]
  },
  {
   "cell_type": "code",
   "execution_count": 18,
   "metadata": {},
   "outputs": [
    {
     "name": "stdout",
     "output_type": "stream",
     "text": [
      "Found 2 items\r\n",
      "-rwxr-xr-x   2 root supergroup          0 2022-08-08 22:50 /user/hive/warehouse/castilho.db/view1/part-00000-0fb90c48-135f-4e07-b8a4-d32eb30b9463-c000\r\n",
      "-rwxr-xr-x   2 root supergroup         17 2022-08-08 22:50 /user/hive/warehouse/castilho.db/view1/part-00003-0fb90c48-135f-4e07-b8a4-d32eb30b9463-c000\r\n"
     ]
    }
   ],
   "source": [
    "# Verificando\n",
    "!hdfs dfs -ls /user/hive/warehouse/castilho.db/view1"
   ]
  },
  {
   "cell_type": "markdown",
   "metadata": {},
   "source": [
    "-----------"
   ]
  },
  {
   "cell_type": "markdown",
   "metadata": {},
   "source": [
    "## 5. Salvar a segunda visualização com formato parquet e compressão snappy"
   ]
  },
  {
   "cell_type": "code",
   "execution_count": 19,
   "metadata": {},
   "outputs": [],
   "source": [
    "# Salvando\n",
    "view2.write.mode(\"overwrite\").parquet(\"/user/marcelo/projeto_semantix/view2\", compression=\"snappy\")"
   ]
  },
  {
   "cell_type": "code",
   "execution_count": 20,
   "metadata": {},
   "outputs": [
    {
     "name": "stdout",
     "output_type": "stream",
     "text": [
      "Found 3 items\r\n",
      "-rw-r--r--   2 root supergroup          0 2022-08-08 22:51 /user/marcelo/projeto_semantix/view2/_SUCCESS\r\n",
      "-rw-r--r--   2 root supergroup        475 2022-08-08 22:51 /user/marcelo/projeto_semantix/view2/part-00000-f12cb3cd-20af-49c1-a008-b8d43d90d155-c000.snappy.parquet\r\n",
      "-rw-r--r--   2 root supergroup        918 2022-08-08 22:51 /user/marcelo/projeto_semantix/view2/part-00003-f12cb3cd-20af-49c1-a008-b8d43d90d155-c000.snappy.parquet\r\n"
     ]
    }
   ],
   "source": [
    "# Verificando\n",
    "!hdfs dfs -ls /user/marcelo/projeto_semantix/view2"
   ]
  },
  {
   "cell_type": "markdown",
   "metadata": {},
   "source": [
    "--------------"
   ]
  },
  {
   "cell_type": "markdown",
   "metadata": {},
   "source": [
    "## 6 - Salvar a terceira visualização em um tópico no Kafka"
   ]
  },
  {
   "cell_type": "code",
   "execution_count": 21,
   "metadata": {},
   "outputs": [],
   "source": [
    "# Salvando\n",
    "view3.selectExpr(\"to_json(struct(*)) AS value\")\\\n",
    ".write.format('kafka').option('kafka.bootstrap.servers', 'kafka:9092')\\\n",
    ".option('topic', 'obitos_acumulados').save()"
   ]
  },
  {
   "cell_type": "code",
   "execution_count": 22,
   "metadata": {},
   "outputs": [
    {
     "name": "stdout",
     "output_type": "stream",
     "text": [
      "+-------------------------------------------------------------------------------------+\n",
      "|value                                                                                |\n",
      "+-------------------------------------------------------------------------------------+\n",
      "|{\"Obitos_Acumulados\":526892,\"Obitos_Novos\":1780,\"Letalidade\":2.8,\"Mortalidade\":250.7}|\n",
      "+-------------------------------------------------------------------------------------+\n",
      "only showing top 1 row\n",
      "\n"
     ]
    }
   ],
   "source": [
    "# Verificando\n",
    "view3 = spark.read.format('kafka')\\\n",
    ".option('kafka.bootstrap.servers', 'kafka:9092')\\\n",
    ".option('subscribe','obitos_acumulados').load()\n",
    "\n",
    "view3_kafka = view3.select(col('value').cast('string'))\n",
    "view3_kafka.show(1, truncate = False)"
   ]
  },
  {
   "cell_type": "markdown",
   "metadata": {},
   "source": [
    "-----------------"
   ]
  },
  {
   "attachments": {
    "image.png": {
     "image/png": "[encoded data removed]"
    }
   },
   "cell_type": "markdown",
   "metadata": {},
   "source": [
    "## 7. Criar a visualização pelo Spark com os dados enviados para o HDFS:\n",
    "![image.png](attachment:image.png)"
   ]
  },
  {
   "cell_type": "code",
   "execution_count": 23,
   "metadata": {},
   "outputs": [],
   "source": [
    "# Fazendo as Agregações\n",
    "view4_agg = df.groupBy(['regiao'])\\\n",
    ".agg({'casosAcumulado':'max', 'obitosAcumulado':'max', 'populacaoTCU2019':'max'})"
   ]
  },
  {
   "cell_type": "code",
   "execution_count": 24,
   "metadata": {
    "scrolled": true
   },
   "outputs": [],
   "source": [
    "# Renomeando \n",
    "view4_rename = view4_agg.withColumnRenamed(\"regiao\", \"Região\")\\\n",
    ".withColumnRenamed(\"max(casosAcumulado)\", \"Casos\").withColumnRenamed(\"max(obitosAcumulado)\", \"Óbitos\")\\\n",
    ".withColumnRenamed(\"max(populacaoTCU2019)\", \"pop\")"
   ]
  },
  {
   "cell_type": "code",
   "execution_count": 25,
   "metadata": {},
   "outputs": [
    {
     "data": {
      "text/plain": [
       "DataFrame[Região: string, Casos: int, Óbitos: int, Incidencia: double, Mortalidade: double]"
      ]
     },
     "execution_count": 25,
     "metadata": {},
     "output_type": "execute_result"
    }
   ],
   "source": [
    "# Incluindo \"Mortalidade\" e \"Incidencia\" ao DF\n",
    "view4 = view4_rename.withColumn(\"Incidencia\", round(col(\"Casos\") / col(\"pop\")*100000,1))\\\n",
    ".withColumn(\"Mortalidade\", round(view4_rename[\"Óbitos\"]/view4_rename[\"pop\"]*100000,1))\\\n",
    ".drop(\"pop\").dropna(\"all\")\n",
    "view4.sort(col(\"Região\").desc())"
   ]
  },
  {
   "cell_type": "code",
   "execution_count": 26,
   "metadata": {},
   "outputs": [
    {
     "name": "stdout",
     "output_type": "stream",
     "text": [
      "+------------+--------+------+----------+-----------+\n",
      "|Região      |Casos   |Óbitos|Incidencia|Mortalidade|\n",
      "+------------+--------+------+----------+-----------+\n",
      "|Brasil      |34018371|679996|16187.9   |323.6      |\n",
      "|Centro-Oeste|1643044 |27228 |23410.7   |388.0      |\n",
      "|Nordeste    |1668570 |30449 |11218.7   |204.7      |\n",
      "|Norte       |817817  |18569 |9506.3    |215.8      |\n",
      "|Sudeste     |5949473 |173338|12956.4   |377.5      |\n",
      "|Sul         |2704589 |44645 |23654.0   |390.5      |\n",
      "+------------+--------+------+----------+-----------+\n",
      "\n"
     ]
    }
   ],
   "source": [
    "# Visualizando\n",
    "view4.sort(col(\"Região\").asc()).show(truncate = False)"
   ]
  },
  {
   "cell_type": "markdown",
   "metadata": {},
   "source": [
    "-----------------------"
   ]
  },
  {
   "cell_type": "markdown",
   "metadata": {},
   "source": [
    "## 8. Salvar a visualização do exercício 6 em um tópico no Elastic"
   ]
  },
  {
   "cell_type": "code",
   "execution_count": 27,
   "metadata": {
    "scrolled": true
   },
   "outputs": [
    {
     "name": "stdout",
     "output_type": "stream",
     "text": [
      "Requirement already satisfied: elasticsearch==7.9 in /opt/anaconda3/lib/python3.6/site-packages (7.9.0)\n",
      "Requirement already satisfied: certifi in /opt/anaconda3/lib/python3.6/site-packages (from elasticsearch==7.9) (2019.11.28)\n",
      "Requirement already satisfied: urllib3>=1.21.1 in /opt/anaconda3/lib/python3.6/site-packages (from elasticsearch==7.9) (1.22)\n"
     ]
    }
   ],
   "source": [
    "# Instalando requisitos\n",
    "!pip install elasticsearch==7.9"
   ]
  },
  {
   "cell_type": "code",
   "execution_count": 28,
   "metadata": {},
   "outputs": [],
   "source": [
    "from elasticsearch import Elasticsearch"
   ]
  },
  {
   "cell_type": "code",
   "execution_count": 29,
   "metadata": {},
   "outputs": [],
   "source": [
    "# Criando Conexão\n",
    "es = Elasticsearch('172.18.0.1:9200')"
   ]
  },
  {
   "cell_type": "code",
   "execution_count": 30,
   "metadata": {},
   "outputs": [
    {
     "data": {
      "text/plain": [
       "{'name': 'node1',\n",
       " 'cluster_name': 'my_cluster',\n",
       " 'cluster_uuid': 'mkcQJPI5QdCggVLbaLLT_A',\n",
       " 'version': {'number': '7.9.2',\n",
       "  'build_flavor': 'default',\n",
       "  'build_type': 'docker',\n",
       "  'build_hash': 'd34da0ea4a966c4e49417f2da2f244e3e97b4e6e',\n",
       "  'build_date': '2020-09-23T00:45:33.626720Z',\n",
       "  'build_snapshot': False,\n",
       "  'lucene_version': '8.6.2',\n",
       "  'minimum_wire_compatibility_version': '6.8.0',\n",
       "  'minimum_index_compatibility_version': '6.0.0-beta1'},\n",
       " 'tagline': 'You Know, for Search'}"
      ]
     },
     "execution_count": 30,
     "metadata": {},
     "output_type": "execute_result"
    }
   ],
   "source": [
    "es.info(pretty=True)"
   ]
  },
  {
   "cell_type": "code",
   "execution_count": 31,
   "metadata": {},
   "outputs": [
    {
     "name": "stdout",
     "output_type": "stream",
     "text": [
      "+-----------------+------------+----------+-----------+\n",
      "|Obitos_Acumulados|Obitos_Novos|Letalidade|Mortalidade|\n",
      "+-----------------+------------+----------+-----------+\n",
      "|           526892|        1780|       2.8|      250.7|\n",
      "+-----------------+------------+----------+-----------+\n",
      "\n"
     ]
    }
   ],
   "source": [
    "view3_1.show(3)"
   ]
  },
  {
   "cell_type": "code",
   "execution_count": 32,
   "metadata": {},
   "outputs": [],
   "source": [
    "# Mudando tipos de dados\n",
    "view3_es = view3_1.withColumn(\"Letalidade\", col(\"Letalidade\").cast(FloatType()))\\\n",
    "                     .withColumn(\"Mortalidade\", col(\"Mortalidade\").cast(FloatType()))"
   ]
  },
  {
   "cell_type": "code",
   "execution_count": 33,
   "metadata": {},
   "outputs": [],
   "source": [
    "# Salvando\n",
    "view3_es.write.format(\"es\") \\\n",
    "                .option(\"es.nodes\", \"172.18.0.1\") \\\n",
    "                .option(\"es.port\", '9200')\\\n",
    "                .option(\"es.resource\", 'view3') \\\n",
    "                .option(\"es.nodes.wan.only\", \"true\") \\\n",
    "                .mode('overwrite')\\\n",
    "                .save()"
   ]
  },
  {
   "cell_type": "code",
   "execution_count": 34,
   "metadata": {},
   "outputs": [
    {
     "data": {
      "text/plain": [
       "{'took': 0,\n",
       " 'timed_out': False,\n",
       " '_shards': {'total': 1, 'successful': 1, 'skipped': 0, 'failed': 0},\n",
       " 'hits': {'total': {'value': 1, 'relation': 'eq'},\n",
       "  'max_score': 1.0,\n",
       "  'hits': [{'_index': 'view3',\n",
       "    '_type': '_doc',\n",
       "    '_id': 'eGGof4IBLfygdaBMhhn5',\n",
       "    '_score': 1.0,\n",
       "    '_source': {'Obitos_Acumulados': 526892,\n",
       "     'Obitos_Novos': 1780,\n",
       "     'Letalidade': 2.8,\n",
       "     'Mortalidade': 250.7}}]}}"
      ]
     },
     "execution_count": 34,
     "metadata": {},
     "output_type": "execute_result"
    }
   ],
   "source": [
    "# Verificando\n",
    "es.search(index=\"view3\")"
   ]
  }
 ],
 "metadata": {
  "kernelspec": {
   "display_name": "PySpark",
   "language": "python",
   "name": "pyspark"
  },
  "language_info": {
   "codemirror_mode": {
    "name": "ipython",
    "version": 3
   },
   "file_extension": ".py",
   "mimetype": "text/x-python",
   "name": "python",
   "nbconvert_exporter": "python",
   "pygments_lexer": "ipython3",
   "version": "3.6.10"
  }
 },
 "nbformat": 4,
 "nbformat_minor": 2
}
